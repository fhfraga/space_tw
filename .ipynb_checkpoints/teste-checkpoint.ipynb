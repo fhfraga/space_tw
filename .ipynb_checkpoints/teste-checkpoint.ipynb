{
 "cells": [
  {
   "cell_type": "code",
   "execution_count": null,
   "metadata": {},
   "outputs": [],
   "source": [
    "def is_valid_card_number(card_number):\n",
    "    \"\"\"\n",
    "    Verifica se o número do cartão de crédito é válido usando o algoritmo de Luhn.\n",
    "    \"\"\"\n",
    "    card_number = card_number.replace(' ', '')  # Remover espaços em branco, se houver\n",
    "    \n",
    "    if not card_number.isdigit():\n",
    "        return False\n",
    "    \n",
    "    sum = 0\n",
    "    num_digits = len(card_number)\n",
    "    oddeven = num_digits & 1\n",
    "    \n",
    "    for count in range(0, num_digits):\n",
    "        digit = int(card_number[count])\n",
    "        \n",
    "        if not ((count & 1) ^ oddeven):\n",
    "            digit *= 2\n",
    "        if digit > 9:\n",
    "            digit -= 9\n",
    "        \n",
    "        sum += digit\n",
    "    \n",
    "    return (sum % 10) == 0"
   ]
  },
  {
   "cell_type": "code",
   "execution_count": 7,
   "metadata": {
    "ExecuteTime": {
     "end_time": "2024-06-24T00:08:22.553665Z",
     "start_time": "2024-06-24T00:08:22.543586Z"
    }
   },
   "outputs": [
    {
     "data": {
      "text/plain": [
       "0"
      ]
     },
     "execution_count": 7,
     "metadata": {},
     "output_type": "execute_result"
    }
   ],
   "source": [
    "card_number = \n",
    "card_number = str(card_number)\n",
    "#card_number = card_number.replace(' ', '')  # Remover espaços em branco, se houver\n",
    "\n",
    "\n",
    "sum = 0\n",
    "num_digits = len(card_number)\n",
    "oddeven = num_digits & 1\n",
    "\n",
    "for count in range(0, num_digits):\n",
    "    digit = int(card_number[count])\n",
    "    \n",
    "    if not ((count & 1) ^ oddeven):\n",
    "        digit *= 2\n",
    "    if digit > 9:\n",
    "        digit -= 9\n",
    "    \n",
    "    sum += digit\n",
    "\n",
    "sum % 10"
   ]
  },
  {
   "cell_type": "code",
   "execution_count": null,
   "metadata": {},
   "outputs": [],
   "source": []
  }
 ],
 "metadata": {
  "hide_input": false,
  "kernelspec": {
   "display_name": "Python 3 (ipykernel)",
   "language": "python",
   "name": "python3"
  },
  "language_info": {
   "codemirror_mode": {
    "name": "ipython",
    "version": 3
   },
   "file_extension": ".py",
   "mimetype": "text/x-python",
   "name": "python",
   "nbconvert_exporter": "python",
   "pygments_lexer": "ipython3",
   "version": "3.9.13"
  },
  "latex_envs": {
   "LaTeX_envs_menu_present": true,
   "autoclose": false,
   "autocomplete": true,
   "bibliofile": "biblio.bib",
   "cite_by": "apalike",
   "current_citInitial": 1,
   "eqLabelWithNumbers": true,
   "eqNumInitial": 1,
   "hotkeys": {
    "equation": "Ctrl-E",
    "itemize": "Ctrl-I"
   },
   "labels_anchors": false,
   "latex_user_defs": false,
   "report_style_numbering": false,
   "user_envs_cfg": false
  },
  "nbTranslate": {
   "displayLangs": [
    "en"
   ],
   "hotkey": "alt-t",
   "langInMainMenu": true,
   "sourceLang": "en",
   "targetLang": "fr",
   "useGoogleTranslate": true
  },
  "toc": {
   "base_numbering": 1,
   "nav_menu": {},
   "number_sections": true,
   "sideBar": true,
   "skip_h1_title": false,
   "title_cell": "Table of Contents",
   "title_sidebar": "Contents",
   "toc_cell": false,
   "toc_position": {},
   "toc_section_display": true,
   "toc_window_display": false
  },
  "varInspector": {
   "cols": {
    "lenName": 16,
    "lenType": 16,
    "lenVar": 40
   },
   "kernels_config": {
    "python": {
     "delete_cmd_postfix": "",
     "delete_cmd_prefix": "del ",
     "library": "var_list.py",
     "varRefreshCmd": "print(var_dic_list())"
    },
    "r": {
     "delete_cmd_postfix": ") ",
     "delete_cmd_prefix": "rm(",
     "library": "var_list.r",
     "varRefreshCmd": "cat(var_dic_list()) "
    }
   },
   "types_to_exclude": [
    "module",
    "function",
    "builtin_function_or_method",
    "instance",
    "_Feature"
   ],
   "window_display": false
  }
 },
 "nbformat": 4,
 "nbformat_minor": 2
}
